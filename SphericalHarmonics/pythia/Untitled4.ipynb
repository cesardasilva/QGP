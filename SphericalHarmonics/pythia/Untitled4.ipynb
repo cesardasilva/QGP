{
 "cells": [
  {
   "cell_type": "code",
   "execution_count": 1,
   "id": "29b3be00-f4e5-42c5-af4c-8f6f7fd25227",
   "metadata": {},
   "outputs": [
    {
     "name": "stderr",
     "output_type": "stream",
     "text": [
      "input_line_41:2:2: error: unknown type name 'import'\n",
      " import sys\n",
      " ^\n",
      "input_line_41:2:12: error: expected ';' at end of declaration\n",
      " import sys\n",
      "           ^\n",
      "           ;\n"
     ]
    }
   ],
   "source": [
    "import sys\n",
    "import numpy as np\n",
    "from math import exp, pi\n",
    "import matplotlib.pyplot as plt\n",
    "import matplotlib.gridspec as gridspec\n",
    "// The following import configures Matplotlib for 3D plotting.\n",
    "from mpl_toolkits.mplot3d import Axes3D\n",
    "from scipy.special import sph_harm\n",
    "import ROOT\n",
    "plt.rc('text', usetex=True)\n",
    "from histos import Hist2D, Hist3D, plot_th1, errorfill, plot_tf1\n"
   ]
  },
  {
   "cell_type": "code",
   "execution_count": null,
   "id": "df88e8a1-6c26-445e-b29a-04ca0cd2fc9a",
   "metadata": {},
   "outputs": [],
   "source": []
  }
 ],
 "metadata": {
  "kernelspec": {
   "display_name": "sPHENIX ROOT C++",
   "language": "c++",
   "name": "sphenix-root"
  },
  "language_info": {
   "codemirror_mode": "text/x-c++src",
   "file_extension": ".C",
   "mimetype": " text/x-c++src",
   "name": "c++"
  }
 },
 "nbformat": 4,
 "nbformat_minor": 5
}
